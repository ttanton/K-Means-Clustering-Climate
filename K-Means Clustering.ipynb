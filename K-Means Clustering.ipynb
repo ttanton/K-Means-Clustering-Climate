{
 "metadata": {
  "name": "",
  "signature": "sha256:f1e89e422dc3198c019abdd99f82ba89d66b30fa256fe5ab8ff14fbb146ed6f0"
 },
 "nbformat": 3,
 "nbformat_minor": 0,
 "worksheets": [
  {
   "cells": [
    {
     "cell_type": "code",
     "collapsed": false,
     "input": [
      "## An example case of using K-Means clustering to determine climate.\n",
      "## Find climate data consisting of temperature and average rainfall for all US Stations\n",
      "\n",
      "# Allow matploblib figures inline in ipython notebook\n",
      "%matplotlib inline\n",
      "\n",
      "import numpy as np\n",
      "from sklearn.cluster import KMeans\n",
      "import pandas as pd\n",
      "import matplotlib.pyplot as plt"
     ],
     "language": "python",
     "metadata": {},
     "outputs": [],
     "prompt_number": 1
    },
    {
     "cell_type": "code",
     "collapsed": false,
     "input": [
      "# Read data txt file into pandas data frame\n",
      "df = pd.read_csv(\"201611monthly.txt\")\n",
      "\n",
      "# Rename column labels with special characters\n",
      "df = df.rename(columns={'DaysWithPrecip>=.10inch':'DaysWithPrecipTenth'})"
     ],
     "language": "python",
     "metadata": {},
     "outputs": [],
     "prompt_number": 2
    },
    {
     "cell_type": "code",
     "collapsed": false,
     "input": [
      "# Remove rows with M missing data\n",
      "df = df[df.AvgTemp != 'M']\n",
      "df = df[df.DaysWithPrecipTenth != 'M']\n",
      "\n",
      "# Collect columns of interest and convert to ndarrays\n",
      "f1 = df['AvgTemp'].values\n",
      "f2 = df['DaysWithPrecipTenth'].values"
     ],
     "language": "python",
     "metadata": {},
     "outputs": [],
     "prompt_number": 3
    },
    {
     "cell_type": "code",
     "collapsed": false,
     "input": [
      "# Zip columns of interest in to new ndarray matrix\n",
      "X=np.matrix(zip(f1,f2))\n",
      "\n",
      "# Transpose matrix to provide x and y vector arrays for plotting\n",
      "p=X.transpose().tolist()"
     ],
     "language": "python",
     "metadata": {},
     "outputs": [],
     "prompt_number": 4
    },
    {
     "cell_type": "code",
     "collapsed": false,
     "input": [
      "# Run Unsupervised K-Means Clustering Algorithm with 2 clusters\n",
      "kmeans = KMeans(n_clusters=2).fit(X)\n",
      "clust = kmeans.cluster_centers_.transpose().tolist()"
     ],
     "language": "python",
     "metadata": {},
     "outputs": [],
     "prompt_number": 5
    },
    {
     "cell_type": "code",
     "collapsed": false,
     "input": [
      "# Plot scatter data and cluster centers\n",
      "plt.scatter(p[0], p[1],s=15)\n",
      "plt.scatter(clust[0],clust[1],color='red',s=40)"
     ],
     "language": "python",
     "metadata": {},
     "outputs": [
      {
       "metadata": {},
       "output_type": "pyout",
       "prompt_number": 6,
       "text": [
        "<matplotlib.collections.PathCollection at 0xab1d176c>"
       ]
      },
      {
       "metadata": {},
       "output_type": "display_data",
       "png": "[encoded data removed]",
       "text": [
        "<matplotlib.figure.Figure at 0xac1fb86c>"
       ]
      }
     ],
     "prompt_number": 6
    }
   ],
   "metadata": {}
  }
 ]
}